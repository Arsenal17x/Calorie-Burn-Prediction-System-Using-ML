{
 "cells": [
  {
   "metadata": {},
   "cell_type": "code",
   "outputs": [],
   "execution_count": null,
   "source": "# 1. Imports",
   "id": "f73906a7d33b2e92"
  },
  {
   "metadata": {},
   "cell_type": "code",
   "outputs": [],
   "execution_count": null,
   "source": [
    "import pandas as pd\n",
    "import numpy as np\n",
    "import warnings\n",
    "warnings.filterwarnings('ignore')\n",
    "import seaborn as sns\n",
    "import matplotlib.pyplot as plt\n",
    "from sklearn.preprocessing import StandardScaler, OrdinalEncoder\n",
    "from sklearn.pipeline import Pipeline\n",
    "from sklearn.compose import ColumnTransformer\n",
    "from sklearn.model_selection import train_test_split\n",
    "from sklearn.linear_model import LinearRegression\n",
    "from sklearn.ensemble import RandomForestRegressor\n",
    "from sklearn.svm import SVR\n",
    "from xgboost import XGBRegressor\n",
    "import pickle\n",
    "from tkinter import *\n",
    "from tkinter import ttk, mainloop, StringVar\n"
   ],
   "id": "9600d7418ea458fa"
  },
  {
   "metadata": {},
   "cell_type": "code",
   "outputs": [],
   "execution_count": null,
   "source": [
    "\n",
    "# 2. Reading Data from CSV\n",
    "def read_csv(file_path):\n",
    "    return pd.read_csv(file_path)"
   ],
   "id": "e0b931b8c3a2aaa5"
  },
  {
   "metadata": {},
   "cell_type": "code",
   "outputs": [],
   "execution_count": null,
   "source": [
    "    \n",
    "# 3. Data Overview and Checks\n",
    "def dataset_info_statistics(data):\n",
    "    print(\"Dataset Information:\")\n",
    "    print(data.info())\n",
    "    print(\"\\n\")\n",
    "    print(\"Basic Statistics for Numerical Columns:\")\n",
    "    print(data.describe())\n",
    "    print(\"\\n\")\n",
    "\n",
    "def check_null(data):\n",
    "    null_counts = data.isnull().sum()\n",
    "    print(\"Null Values in the Dataset:\")\n",
    "    return null_counts"
   ],
   "id": "557caf8935e8cba2"
  },
  {
   "metadata": {},
   "cell_type": "code",
   "outputs": [],
   "execution_count": null,
   "source": [
    "\n",
    "def check_duplicates(data):\n",
    "    return data.duplicated().any()"
   ],
   "id": "2d32de517c19e32e"
  },
  {
   "metadata": {},
   "cell_type": "code",
   "outputs": [],
   "execution_count": null,
   "source": [
    "\n",
    "# 4. Data Visualization\n",
    "def plot_graph(data):\n",
    "    numerical_columns = data.select_dtypes(include=np.number).columns\n",
    "    for column in numerical_columns:\n",
    "    plt.figure(figsize=(5, 3))\n",
    "    sns.distplot(data[column], kde=True)\n",
    "    plt.title(f\"Histogram for {column}\")\n",
    "    plt.xlabel(column)\n",
    "    plt.ylabel(\"Frequency\")"
   ],
   "id": "ff49daa8c80a45a8"
  },
  {
   "metadata": {},
   "cell_type": "code",
   "outputs": [],
   "execution_count": null,
   "source": "plt.show()",
   "id": "907eaf304dcb9520"
  },
  {
   "metadata": {},
   "cell_type": "code",
   "outputs": [],
   "execution_count": null,
   "source": [
    "\n",
    "categorical_columns = data.select_dtypes(include='object').columns\n",
    "\n",
    "for column in categorical_columns:\n",
    "    plt.figure(figsize=(5, 3))\n",
    "    sns.countplot(data[column])\n",
    "    plt.title(f'Countplot for {column}')\n",
    "    plt.xlabel(column)\n",
    "    plt.ylabel('Count')\n",
    "    plt.xticks(rotation=45)"
   ],
   "id": "1cc03c26813878f2"
  },
  {
   "metadata": {},
   "cell_type": "code",
   "outputs": [],
   "execution_count": null,
   "source": "plt.show()",
   "id": "51bb5e013ca365cc"
  },
  {
   "metadata": {},
   "cell_type": "code",
   "outputs": [],
   "execution_count": null,
   "source": [
    "\n",
    "# 5. Feature and Target Separation\n",
    "def separate_features_target(data, target_column):\n",
    "    X = data.drop(columns=[target_column], axis=1)\n",
    "    y = data[target_column]\n",
    "    return X, y"
   ],
   "id": "5911b7c681643af9"
  },
  {
   "metadata": {},
   "cell_type": "code",
   "outputs": [],
   "execution_count": null,
   "source": [
    "\n",
    "# 6. Train-Test Split\n",
    "def perform_train_test_split(X, y, test_size=0.20, random_state=42):\n",
    "    X_train, X_test, y_train, y_test = train_test_split(X, y, test_size=test_size,random_state=random_state)\n",
    "    return X_train, X_test, y_train, y_test"
   ],
   "id": "7ba9069881da6f27"
  },
  {
   "metadata": {},
   "cell_type": "code",
   "outputs": [],
   "execution_count": null,
   "source": [
    "\n",
    "# 7. Data Preprocessing and Pipeline Creation\n",
    "preprocessor = ColumnTransformer(transformers=[\n",
    "    ('ordinal', OrdinalEncoder(), ['Gender']),\n",
    "    ('num', StandardScaler(), ['Age', 'Height', 'Weight', 'Duration', 'Heart_Rate', 'Body_Temp']),\n",
    "], remainder='passthrough')\n",
    "\n",
    "pipeline = Pipeline([(\"preprocessor\", preprocessor), (\"model\", LinearRegression())])"
   ],
   "id": "9e8c1c9812b2ea2f"
  },
  {
   "metadata": {},
   "cell_type": "code",
   "outputs": [],
   "execution_count": null,
   "source": [
    "\n",
    "# 8. Model Training and Evaluation\n",
    "pipeline.fit(X_train, y_train)\n",
    "y_pred = pipeline.predict(X_test)\n",
    "print(r2_score(y_test, y_pred))\n",
    "print(mean_absolute_error(y_test, y_pred))"
   ],
   "id": "e13305e022323efc"
  },
  {
   "metadata": {},
   "cell_type": "code",
   "outputs": [],
   "execution_count": null,
   "source": [
    "\n",
    "# 9. Model Scoring Function\n",
    "def model_scorer(model_name, model):\n",
    "    output = []\n",
    "    output.append(model_name)\n",
    "    pipeline = Pipeline([\n",
    "        ('preprocessor', preprocessor),\n",
    "        ('model', model)\n",
    "    ])\n",
    "    \n",
    "    X_train, X_test, y_train, y_test = train_test_split(X, y, test_size=0.20, random_state=42)\n",
    "    pipeline.fit(X_train, y_train)\n",
    "    y_pred = pipeline.predict(X_test)\n",
    "    output.append(r2_score(y_test, y_pred))\n",
    "    output.append(mean_absolute_error(y_test, y_pred))\n",
    "    kfold = KFold(n_splits=5, shuffle=True, random_state=42)\n",
    "    cv_results = cross_val_score(pipeline, X, y, cv=kfold, scoring='r2')\n",
    "    \n",
    "    output.append(cv_results.mean())\n",
    "\n",
    "    return output"
   ],
   "id": "88c0467057cae5f4"
  },
  {
   "metadata": {},
   "cell_type": "code",
   "outputs": [],
   "execution_count": null,
   "source": [
    "\n",
    "# 10. Model Comparison\n",
    "model_dict = {\n",
    "    'SVR': SVR(),\n",
    "    'LR': LinearRegression(),\n",
    "    'RF': RandomForestRegressor(),\n",
    "    'XGBR': XGBRegressor()\n",
    "}\n",
    "model_output = []\n",
    "for model_name, model in model_dict.items():\n",
    "    model_output.append(model_scorer(model_name, model))\n",
    "    \n",
    "print(model_output)"
   ],
   "id": "ab18b1d9ea59827c"
  },
  {
   "metadata": {},
   "cell_type": "code",
   "outputs": [],
   "execution_count": null,
   "source": [
    "\n",
    "# 11. Model Training with Best Model\n",
    "pipeline = Pipeline([\n",
    "    ('preprocessor', preprocessor),\n",
    "    ('model', XGBRegressor())\n",
    "])\n",
    "pipeline.fit(X, y)"
   ],
   "id": "8058c8cab6349227"
  },
  {
   "metadata": {},
   "cell_type": "code",
   "outputs": [],
   "execution_count": null,
   "source": [
    "\n",
    "# 12. Sample Prediction\n",
    "sample = pd.DataFrame({\n",
    "    'Gender': ['male'],\n",
    "    'Age': [68],\n",
    "    'Height': [190.0],\n",
    "    'Weight': [94.0],\n",
    "    'Duration': [29.0],\n",
    "    'Heart_Rate': [105.0],\n",
    "    'Body_Temp': [40.8],\n",
    "})\n",
    "print(pipeline.predict(sample))"
   ],
   "id": "590c3c22e4d10c09"
  },
  {
   "metadata": {},
   "cell_type": "code",
   "outputs": [],
   "execution_count": null,
   "source": [
    "\n",
    "# 13. Model Saving and Loading\n",
    "with open('pipeline.pkl', 'wb') as f:\n",
    "    pickle.dump(pipeline, f)\n",
    "\n",
    "with open('pipeline.pkl', 'rb') as f:\n",
    "    pipeline_saved = pickle.load(f)\n",
    "\n",
    "result = pipeline_saved.predict(sample)\n",
    "print(result)\n"
   ],
   "id": "1d252eb949b670d0"
  }
 ],
 "metadata": {
  "kernelspec": {
   "display_name": "Python 3",
   "language": "python",
   "name": "python3"
  },
  "language_info": {
   "codemirror_mode": {
    "name": "ipython",
    "version": 2
   },
   "file_extension": ".py",
   "mimetype": "text/x-python",
   "name": "python",
   "nbconvert_exporter": "python",
   "pygments_lexer": "ipython2",
   "version": "2.7.6"
  }
 },
 "nbformat": 4,
 "nbformat_minor": 5
}
